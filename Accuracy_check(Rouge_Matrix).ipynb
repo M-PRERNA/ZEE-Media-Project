{
  "nbformat": 4,
  "nbformat_minor": 0,
  "metadata": {
    "colab": {
      "name": "Accuracy_check(Rouge_Matrix).ipynb",
      "provenance": [],
      "collapsed_sections": [],
      "authorship_tag": "ABX9TyNjSbM7qJxpuq3GActzoRn+",
      "include_colab_link": true
    },
    "kernelspec": {
      "name": "python3",
      "display_name": "Python 3"
    },
    "language_info": {
      "name": "python"
    }
  },
  "cells": [
    {
      "cell_type": "markdown",
      "metadata": {
        "id": "view-in-github",
        "colab_type": "text"
      },
      "source": [
        "<a href=\"https://colab.research.google.com/github/M-PRERNA/zee-media-internship/blob/anshika/Accuracy_check(Rouge_Matrix).ipynb\" target=\"_parent\"><img src=\"https://colab.research.google.com/assets/colab-badge.svg\" alt=\"Open In Colab\"/></a>"
      ]
    },
    {
      "cell_type": "code",
      "metadata": {
        "colab": {
          "base_uri": "https://localhost:8080/"
        },
        "id": "cELHixijmSl_",
        "outputId": "f7bfc1ba-956d-41a5-b229-bcff1705e899"
      },
      "source": [
        "!pip install rouge"
      ],
      "execution_count": null,
      "outputs": [
        {
          "output_type": "stream",
          "name": "stdout",
          "text": [
            "Requirement already satisfied: rouge in /usr/local/lib/python3.7/dist-packages (1.0.1)\n",
            "Requirement already satisfied: six in /usr/local/lib/python3.7/dist-packages (from rouge) (1.15.0)\n"
          ]
        }
      ]
    },
    {
      "cell_type": "code",
      "metadata": {
        "id": "x1grHdbFmfXV"
      },
      "source": [
        "from rouge import Rouge"
      ],
      "execution_count": null,
      "outputs": []
    },
    {
      "cell_type": "markdown",
      "metadata": {
        "id": "6H5gX5rLwrU2"
      },
      "source": [
        "**ACCURACY CHECK FOR ENGLISH LANGUAGE SUMMARIZATION**"
      ]
    },
    {
      "cell_type": "code",
      "metadata": {
        "id": "D-y5Z3Sem371"
      },
      "source": [
        "reference= [\"\"\"The lion is asleep in the middle of the jungle and a mouse runs over his paw by accident.\n",
        " The lion wakes up when he feels the mouse on his paw and threatends to eat the mouse. The mouse begs \n",
        " for his life, saying that if the lion will free him the mouse will return the favor one day.\"\"\"]\n",
        "\n",
        "summary= [\"\"\"a lion was stalking for prey in the amazon rainforest\n",
        "the lion lay his huge paw angrily on the tiny mouse to kill her.the lion was\n",
        "in a good mood and in his generosity he finally let the mouse go\". a few days later, \n",
        "a hunter set a trap for the lion while the big animal was stalking for prey. the lion \n",
        "found it difficult to free himself and roared loudly in anger\"\"\"]\n"
      ],
      "execution_count": null,
      "outputs": []
    },
    {
      "cell_type": "code",
      "metadata": {
        "colab": {
          "base_uri": "https://localhost:8080/"
        },
        "id": "TswtodpMpFeW",
        "outputId": "9f1f1e51-38f2-47f9-bac3-bbc7a6127860"
      },
      "source": [
        "rouge = Rouge()\n",
        "rouge.get_scores(summary , reference, avg = True)"
      ],
      "execution_count": null,
      "outputs": [
        {
          "output_type": "execute_result",
          "data": {
            "text/plain": [
              "{'rouge-1': {'f': 0.38483964700218454,\n",
              "  'p': 0.9850746268656716,\n",
              "  'r': 0.2391304347826087},\n",
              " 'rouge-2': {'f': 0.32402234360336934,\n",
              "  'p': 0.9775280898876404,\n",
              "  'r': 0.19419642857142858},\n",
              " 'rouge-l': {'f': 0.38483964700218454,\n",
              "  'p': 0.9850746268656716,\n",
              "  'r': 0.2391304347826087}}"
            ]
          },
          "metadata": {},
          "execution_count": 29
        }
      ]
    },
    {
      "cell_type": "markdown",
      "metadata": {
        "id": "oljvf1vpqGTO"
      },
      "source": [
        ""
      ]
    },
    {
      "cell_type": "code",
      "metadata": {
        "id": "1FjiKz_MwFvU"
      },
      "source": [
        ""
      ],
      "execution_count": null,
      "outputs": []
    }
  ]
}