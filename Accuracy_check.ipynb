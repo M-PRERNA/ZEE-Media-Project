{
  "nbformat": 4,
  "nbformat_minor": 0,
  "metadata": {
    "colab": {
      "name": "Accuracy_check.ipynb",
      "provenance": [],
      "collapsed_sections": [],
      "authorship_tag": "ABX9TyPTpKxNqiIsdKL08QdwiRQV",
      "include_colab_link": true
    },
    "kernelspec": {
      "name": "python3",
      "display_name": "Python 3"
    },
    "language_info": {
      "name": "python"
    }
  },
  "cells": [
    {
      "cell_type": "markdown",
      "metadata": {
        "id": "view-in-github",
        "colab_type": "text"
      },
      "source": [
        "<a href=\"https://colab.research.google.com/github/M-PRERNA/zee-media-internship/blob/anshika/Accuracy_check.ipynb\" target=\"_parent\"><img src=\"https://colab.research.google.com/assets/colab-badge.svg\" alt=\"Open In Colab\"/></a>"
      ]
    },
    {
      "cell_type": "code",
      "metadata": {
        "colab": {
          "base_uri": "https://localhost:8080/"
        },
        "id": "cELHixijmSl_",
        "outputId": "f7bfc1ba-956d-41a5-b229-bcff1705e899"
      },
      "source": [
        "!pip install rouge"
      ],
      "execution_count": 26,
      "outputs": [
        {
          "output_type": "stream",
          "name": "stdout",
          "text": [
            "Requirement already satisfied: rouge in /usr/local/lib/python3.7/dist-packages (1.0.1)\n",
            "Requirement already satisfied: six in /usr/local/lib/python3.7/dist-packages (from rouge) (1.15.0)\n"
          ]
        }
      ]
    },
    {
      "cell_type": "code",
      "metadata": {
        "id": "x1grHdbFmfXV"
      },
      "source": [
        "from rouge import Rouge"
      ],
      "execution_count": 27,
      "outputs": []
    },
    {
      "cell_type": "markdown",
      "metadata": {
        "id": "6H5gX5rLwrU2"
      },
      "source": [
        "**ACCURACY CHECK FOR ENGLISH LANGUAGE SUMMARIZATION**"
      ]
    },
    {
      "cell_type": "code",
      "metadata": {
        "id": "D-y5Z3Sem371"
      },
      "source": [
        "reference= '''\n",
        "The Chrysler Building, the famous art deco New York skyscraper, will be sold for a small fraction of its previous sales price.\n",
        "The deal, first reported by The Real Deal, was for $150 million, according to a source familiar with the deal.\n",
        "Mubadala, an Abu Dhabi investment fund, purchased 90% of the building for $800 million in 2008.\n",
        "Real estate firm Tishman Speyer had owned the other 10%.\"\"\n",
        "The buyer is RFR Holding, a New York real estate company.\n",
        "Officials with Tishman and RFR did not immediately respond to a request for comments.\n",
        "It's unclear when the deal will close.\n",
        "The building sold fairly quickly after being publicly placed on the market only two months ago.\n",
        "The sale was handled by CBRE Group.\n",
        "The incentive to sell the building at such a huge loss was due to the soaring rent the owners pay to Cooper Union, a New York college, for the land under the building.\n",
        "The rent is rising from $7.75 million last year to $32.5 million this year to $41 million in 2028.\n",
        "Meantime, rents in the building itself are not rising nearly that fast.\n",
        "While the building is an iconic landmark in the New York skyline, it is competing against newer office towers with large floor-to-ceiling windows and all the modern amenities.\n",
        "Still the building is among the best known in the city, even to people who have never been to New York.\n",
        "It is famous for its triangle-shaped, vaulted windows worked into the stylized crown, along with its distinctive eagle gargoyles near the top.\n",
        "It has been featured prominently in many films, including Men in Black 3, Spider-Man, Armageddon, Two Weeks Notice and Independence Day.\n",
        "The previous sale took place just before the 2008 financial meltdown led to a plunge in real estate prices.\n",
        "Still there have been a number of high profile skyscrapers purchased for top dollar in recent years, including the Waldorf Astoria hotel, which Chinese firm Anbang Insurance purchased in 2016 for nearly $2 billion, and the Willis Tower in Chicago, which was formerly known as Sears Tower, once the world's tallest.\n",
        "Blackstone Group (BX) bought it for $1.3 billion 2015.\n",
        "The Chrysler Building was the headquarters of the American automaker until 1953, but it was named for and owned by Chrysler chief Walter Chrysler, not the company itself.\n",
        "Walter Chrysler had set out to build the tallest building in the world, a competition at that time with another Manhattan skyscraper under construction at 40 Wall Street at the south end of Manhattan. He kept secret the plans for the spire that would grace the top of the building, building it inside the structure and out of view of the public until 40 Wall Street was complete.\n",
        "Once the competitor could rise no higher, the spire of the Chrysler building was raised into view, giving it the title.'''\n",
        "\n",
        "\n",
        "summary= '''\n",
        "The Chrysler Building, the famous art deco New York skyscraper, will be sold for a small fraction of its previous sales price. \n",
        "The deal, first reported by The Real Deal, was for $150 million, according to a source familiar with the deal. \n",
        "The building sold fairly quickly after being publicly placed on the market only two months ago. The incentive to sell the building at such a huge \n",
        "loss was due to the soaring rent the owners pay to Cooper Union, a New York college, for the land under the building.\n",
        "'''"
      ],
      "execution_count": 28,
      "outputs": []
    },
    {
      "cell_type": "code",
      "metadata": {
        "colab": {
          "base_uri": "https://localhost:8080/"
        },
        "id": "TswtodpMpFeW",
        "outputId": "9f1f1e51-38f2-47f9-bac3-bbc7a6127860"
      },
      "source": [
        "rouge = Rouge()\n",
        "rouge.get_scores(summary , reference, avg = True)"
      ],
      "execution_count": 29,
      "outputs": [
        {
          "output_type": "execute_result",
          "data": {
            "text/plain": [
              "{'rouge-1': {'f': 0.38483964700218454,\n",
              "  'p': 0.9850746268656716,\n",
              "  'r': 0.2391304347826087},\n",
              " 'rouge-2': {'f': 0.32402234360336934,\n",
              "  'p': 0.9775280898876404,\n",
              "  'r': 0.19419642857142858},\n",
              " 'rouge-l': {'f': 0.38483964700218454,\n",
              "  'p': 0.9850746268656716,\n",
              "  'r': 0.2391304347826087}}"
            ]
          },
          "metadata": {},
          "execution_count": 29
        }
      ]
    },
    {
      "cell_type": "markdown",
      "metadata": {
        "id": "RWDFsWfDqIzf"
      },
      "source": [
        "**accuracy check for entity extraction summarization**   "
      ]
    },
    {
      "cell_type": "code",
      "metadata": {
        "id": "nKDWYIxJph1H"
      },
      "source": [
        "reference2 = '''\n",
        " F.B.I. Agent , Who in Texts, Is Fired - The New York Times SectionsSEARCHSkip to contentSkip to site ’s, PaperPolitics|F.B.I. Agent , Who in Texts, Is Firedhttps://www.nytimes.com/2018/08/13/us/politics/peter-strzok-fired-fbi.htmlAdvertisementContinue reading the main storySupported reading the main storyF.B.I. Agent , Who in Texts, Is , a top counterintelligence agent who was taken off the special counsel investigation after his disparaging texts about President were uncovered, was fired., , for and ., , — , the senior counterintelligence agent who disparaged President in inflammatory text messages and helped oversee the email and investigations, has been fired for violating bureau policies, Mr. ’s lawyer said ., Mr. and his allies seized on the texts — exchanged during the campaign with a former lawyer, — in assailing the investigation as an illegitimate “witch hunt.”, Mr. , who rose over at the to become one of its most experienced counterintelligence agents, was a key figure in of the inquiry., Along with writing the texts, Mr. was accused of sending a highly sensitive search warrant to his personal email account., The had been under immense political pressure by Mr. to dismiss Mr. , who was removed from the staff of the special counsel, ., The president has repeatedly denounced Mr. in posts on , and on expressed satisfaction that he had been sacked., Mr. ’s victory traces back to , when Mr. ’s conduct was laid out in a wide-ranging inspector general’s report on how the handled the investigation of ’s emails in the run-up to the election., The report was critical of Mr. ’s conduct in sending the texts, and the bureau’s said that Mr. should be suspended for and demoted., Mr. had testified before the in about how he had not allowed his political views to interfere with the investigations he was overseeing., But Mr. ’s lawyer said the deputy director of the F.B.I., , had overruled and fired Mr. ., A spokeswoman for the did not respond to a message seeking comment about why Mr. was dismissed rather than demoted., Firing Mr. , however, removes a favorite target of Mr. from the ranks of the and gives Mr. and the director, , a chance to move beyond the president’s ire., , Mr. ’s lawyer, denounced his client’s dismissal., “The decision to fire Special Agent is not only a departure from typical bureau practice, but also contradicts Director ’s testimony to and his assurances that the intended to follow its regular process in this and all personnel matters,” Mr. said., “This decision should be deeply troubling to all ,” Mr. added., “A lengthy investigation and multiple rounds of congressional testimony failed to produce a shred of evidence that Special Agent ’s personal views ever affected his work., ”Mr., ’s text exchanges with Ms. demonstrated animosity toward Mr. ., In , Ms. asks: Trump is “not ever going to become president, right?, Right?!”, Mr. responds: “No., No he won’t., We’ll stop it.”, The inspector general, who uncovered the messages, found no evidence that the pair imposed their political views on their \n",
        " investigative decisions but cited that exchange as “not only indicative of a biased state of mind but, even more seriously, implies a willingness \n",
        " to take official action to impact the presidential candidate’s electoral prospects., ”The report by the inspector general, , that preceded Mr. ’s \n",
        " firing not only criticized his conduct in sending the texts but also his use of personal email accounts to handle sensitive information.,\n",
        "  In addition, the inspector general criticized Mr. ’s decision not to move swiftly to examine new emails related to \n",
        " the investigation before the election., Mr. said in his report that he was “deeply troubled” by the text messages., \n",
        " exchanged were found in which the pair disparaged Mr. and, to a lesser extent, Mrs. , exchanged work gossip and bantered., \n",
        " On , Mr. said he was “deeply saddened by this decision,” adding, “It has been an honor to serve my country and work with \n",
        " the fine men and women of the FBI.”Mr., became emblematic of Mr. ’s unfounded assertions that a so-called deep state of bureaucrats opposed to him was \n",
        " undermining his presidency., Mr. contended that Mr. targeted the president and accused Mr. of being “treasonous” and a “disgrace.”, Mr. tol\n",
        " lawmakers that he never leaked information about the inquiry, which could have upended the election and hurt Mr. ’s chances of becoming president.,\n",
        "  After Mr. uncovered the texts, Mr. , who had by then taken over the investigation, removed Mr. from his team., He was reassigned to the ’s human \n",
        " resources division., Ms. , who had left Mr. ’s team before the discovery of the text messages, quit the F.B.I. in May., The inspector \n",
        " general’s report also took issue with the reaction by Mr. and other officials to the discovery of possible new evidence in the investigation,\n",
        "  known internally as , in on a laptop that belonged to the disgraced politician , the husband of a top aide., At the time, Mr. was in the early \n",
        " stages of investigating whether any had conspired with ’s interference in the presidential election, and passed before agents and analysts \n",
        " began to act on the emails found on Mr. ’s laptop., Mr. could not rule out that Mr. had slow-walked the examination of the new emails to help\n",
        "  Mrs. ’s presidential bid., “Under these circumstances, we did not have confidence that ’s decision to prioritize the\n",
        "  investigation over following up on the Midyear-related investigative lead discovered on the laptop was free from bias,” he wrote., \n",
        " The delays were merely the “result of bureaucratic snafus,” Mr. ’s lawyer wrote in ., But the justifications for the \n",
        " delay were “unpersuasive” and had “far-reaching consequences,” the inspector general said., , the former director, has told investigators \n",
        " that if he had known about the emails earlier, it might have influenced his decision to alert to their existence days before the election., \n",
        " In addition, the inspector general said that Mr. had forwarded a proposed search warrant to his personal email account., \n",
        " The inspector general said the email, which included a draft of the search warrant affidavit, \n",
        " contained information that appeared to be under seal., In a heated congressional hearing , Mr. expressed “significant regret” \n",
        " for the texts and rebutted the president’s attacks on the inquiry., “This investigation is not politically motivated; it is not a witch hunt;\n",
        "  it is not a hoax,” he said., Mr. ’s dismissal was not unexpected., He is the senior agent to be \n",
        " fired as a result of the inspector general’s investigation., In , , the former deputy director, was fired after the inspector general repeatedly \n",
        " faulted him for misleading investigators., The firing was politically motivated, \n",
        " Mr. has said, as an effort to discredit him as a witness in the special counsel investigation., Both men were fired before \n",
        " they were eligible for their pension and health benefits., Mr. , , a graduate of , served as an officer in the before he joined the F.B.I. \n",
        " He held several key positions in the , eventually becoming a top deputy in the counterintelligence division.,\n",
        "  He handled many important espionage cases including involving a former officer suspected of working for and a \n",
        " group of spies who had been working undercover in ., AdvertisementContinue reading the main storySite IndexSite Information Navigation© 2021 , \n",
        " UsAccessibilityWork with usAdvertiseT Brand StudioYour Ad, of SaleSite MapCanadaInternationalHelpSubscriptions'''\n",
        "\n",
        "summary2= '''\n",
        "F.B.I. Agent , Who in Texts, Is Fired - The New York Times SectionsSEARCHSkip to contentSkip to site ’s, PaperPolitics|F.B.I. Agent , \n",
        "Who in Texts, Is Firedhttps://www.nytimes.com/2018/08/13/us/politics/peter-strzok-fired-fbi.htmlAdvertisementContinue \n",
        "reading the main storySupported reading the main storyF.B.I. Agent , Who in Texts, Is , a top counterintelligence \n",
        "agent who was taken off the special counsel investigation after his disparaging texts about President were uncovered, was fired., , Mr. , who \n",
        "rose over at the to become one of its most experienced counterintelligence agents, was a key figure in of the inquiry., The decision to fire Special \n",
        "Agent is not only a departure from typical bureau practice, but also contradicts Director ’s testimony to and his assurances that the intended to \n",
        "follow its regular process in this and all personnel matters,” Mr. said., “ In , Ms. asks: Trump is “not ever going to become president, right?,\n",
        " Ms. , who had left Mr. ’s team before the discovery of the text messages, quit the F.B.I. in May., The inspector \n",
        " general’s report also took issue with the reaction by Mr. and other officials to the discovery of possible new evidence in the investigation,\n",
        "  known internally as , in on a laptop that belonged to the disgraced politician , the husband of a top aide., In a heated congressional hearing , \n",
        "  Mr. expressed “significant regret” \n",
        " for the texts and rebutted the president’s attacks on the inquiry., “ In , , the former deputy director, was fired after the inspector general repeatedly \n",
        " faulted him for misleading investigators., The firing was politically motivated, \n",
        " Mr. has said, as an effort to discredit him as a witness in the special counsel investigation., Both men were fired before \n",
        " they were eligible for their pension and health benefits., AdvertisementContinue reading the main storySite IndexSite Information Navigation© 2021 , \n",
        " UsAccessibilityWork with usAdvertiseT Brand StudioYour Ad, of SaleSite MapCanadaInternationalHelpSubscriptions'''\n"
      ],
      "execution_count": 30,
      "outputs": []
    },
    {
      "cell_type": "markdown",
      "metadata": {
        "id": "oljvf1vpqGTO"
      },
      "source": [
        ""
      ]
    },
    {
      "cell_type": "code",
      "metadata": {
        "colab": {
          "base_uri": "https://localhost:8080/"
        },
        "id": "uoX9iUdQtKfO",
        "outputId": "ad1ea1c9-1be0-4c9f-ff11-5e6f3c3ea46b"
      },
      "source": [
        "rouge = Rouge()\n",
        "rouge.get_scores(summary2,reference2, avg = True)"
      ],
      "execution_count": 33,
      "outputs": [
        {
          "output_type": "execute_result",
          "data": {
            "text/plain": [
              "{'rouge-1': {'f': 0.5427728573887716,\n",
              "  'p': 0.9945945945945946,\n",
              "  'r': 0.37322515212981744},\n",
              " 'rouge-2': {'f': 0.42923076582472186,\n",
              "  'p': 0.9858657243816255,\n",
              "  'r': 0.2743362831858407},\n",
              " 'rouge-l': {'f': 0.5427728573887716,\n",
              "  'p': 0.9945945945945946,\n",
              "  'r': 0.37322515212981744}}"
            ]
          },
          "metadata": {},
          "execution_count": 33
        }
      ]
    },
    {
      "cell_type": "markdown",
      "metadata": {
        "id": "QW2Ip1Q1tpgU"
      },
      "source": [
        "**ACCURACY CHECK FOR VERNACULAR LANGUAGE SUMMARIZATIONS**\n",
        "\n",
        "**HINDI**"
      ]
    },
    {
      "cell_type": "code",
      "metadata": {
        "id": "DZML6WqTuDCd"
      },
      "source": [
        "reference3= '''दा विंची कोड ने ईसाई धर्म के इतिहास में पवित्र कंघी बनानेवाले की रेती की कथा और मैरी मैग्डलीन की भूमिका से संबंधित अटकलों \n",
        "में एक लोकप्रिय रुचि को उकसाया। हालाँकि, कैथोलिक चर्च पर हमले के रूप में कई ईसाई संप्रदायों द्वारा पुस्तक की व्यापक रूप से निंदा की गई है, \n",
        "और इसकी ऐतिहासिक और वैज्ञानिक अशुद्धियों के लिए लगातार आलोचना की गई है। उपन्यास फिर भी एक बड़े पैमाने पर दुनिया भर में बेस्टसेलर [1] \n",
        "बन गया, जिसने 2009 [2] तक 80 मिलियन प्रतियां बेचीं और 44 भाषाओं में इसका अनुवाद किया गया। नवंबर 2004 में, \n",
        "रैंडम हाउस ने 160 चित्रों के साथ एक विशेष सचित्र संस्करण प्रकाशित किया। 2006 में, कोलंबिया पिक्चर्स द्वारा एक फिल्म रूपांतरण जारी किया गया था।\n",
        "'''\n",
        "\n",
        "summary3= '''\n",
        "द दा विंची कोड डैन ब्राउन का 2003 का एक मिस्ट्री थ्रिलर उपन्यास है। उपन्यास एक वैकल्पिक धार्मिक इतिहास की पड़ताल करता है, जिसका केंद्रीय कथानक यह है कि फ्रांस \n",
        "के मेरोविंगियन राजा यीशु मसीह और मैरी मैग्डलीन की रक्त रेखा से निकले थे, क्लाइव प्रिंस के द टेम्पलर रहस्योद्घाटन (1997) और मार्गरेट स्टारबर्ड की पुस्तकों से प्राप्त विचार। पुस्तक में द होली ब्लड एंड द होली ग्रेल (1982) का भी उल्लेख है, हालांकि डैन ब्राउन ने कहा है कि इसका उपयोग शोध सामग्री के रूप में नहीं किया गया था। दा विंची कोड ने ईसाई धर्म के इतिहास में पवित्र कंघी बनानेवाले की रेती की कथा और मैरी मैग्डलीन की भूमिका के बारे में अटकलों में एक लोकप्रिय रुचि को उकसाया। 2006 में, कोलंबिया पिक्चर्स द्वारा एक फिल्म रूपांतरण जारी किया गया था।\n",
        "'''"
      ],
      "execution_count": 35,
      "outputs": []
    },
    {
      "cell_type": "code",
      "metadata": {
        "colab": {
          "base_uri": "https://localhost:8080/"
        },
        "id": "rUh8msFEuCec",
        "outputId": "7627d5b6-1fb2-47d8-aea6-c3b594fd153b"
      },
      "source": [
        "rouge = Rouge()\n",
        "rouge.get_scores(summary3,reference3, avg =True)"
      ],
      "execution_count": 37,
      "outputs": [
        {
          "output_type": "execute_result",
          "data": {
            "text/plain": [
              "{'rouge-1': {'f': 0.46808510138354464,\n",
              "  'p': 0.4731182795698925,\n",
              "  'r': 0.4631578947368421},\n",
              " 'rouge-2': {'f': 0.3292181019966469,\n",
              "  'p': 0.3252032520325203,\n",
              "  'r': 0.3333333333333333},\n",
              " 'rouge-l': {'f': 0.3829787184048213,\n",
              "  'p': 0.3870967741935484,\n",
              "  'r': 0.37894736842105264}}"
            ]
          },
          "metadata": {},
          "execution_count": 37
        }
      ]
    },
    {
      "cell_type": "markdown",
      "metadata": {
        "id": "glpXIdvMvfcs"
      },
      "source": [
        "**PUNJABI**"
      ]
    },
    {
      "cell_type": "code",
      "metadata": {
        "id": "LoE0rJiAvoBx"
      },
      "source": [
        "reference4 = '''Da vicī kōḍa ḍaina brāna dā 2003 dā rahasama'ī thrilara nāvala hai. Rōbaraṭa laiṅgaḍana dē kiradāra nū śāmala karana la'ī iha brā'sna dā dūjā nāvala hai: Pahilā usadā 2000 dā nāvala ēn̄jalasa aiṇḍa ḍaimasa sī. Pairisa dē lūvara mi Museumzī'ama vica hō'ē katala tōṁ bā'ada ḍā vicī kōḍa\"sibōlōjisaṭa\" raubaraṭa laiṅgaḍana atē kripaṭaulōjisaṭa sōphī nēvē'u dī pālaṇā karadā hai jisa kārana uha yisū masīha atē mairī maigaḍēlīna dē hōṇa dī sabhāvanā nū lai kē si'ōna atē ōpasa dē'ī dē vicakāra laṛā'ī vica śāmala hō jāndē hana. Ika bacā ikaṭhē.\n",
        "\n",
        "Nāvala ika vikalapaka dhāramika itihāsa dī paṛacōla karadā hai, jisadā kēndarī palāṭa bidū iha hai ki pharānsa dē mērōvigi'ana rājē yisū masīha atē mairī maigaḍēlīna dē ḵẖūna rēkhā tōṁ utapana hō'ē sana, kalā'īva prisa dē di ṭaimpalara rēvīlēśana (1997) atē māragarēṭa saṭārabaraḍa dī'āṁ kitābāṁ tōṁ la'ē ga'ē vicāra. Iha kitāba di hōlī balaḍa aiṇḍa di hōlī grēla (1982) dā vī havālā didī hai hālāṅki ḍaina brāna nē kihā hai ki isa nū khōja samagarī vajōṁ nahīṁ varati'ā gi'ā sī.\n",
        "\n",
        "Dā vicī kōḍa nē pavitara grēla kathā atē īsā'ī dharama dē itihāsa vica mairī maigaḍēlīna dī bhūmikā bārē aṭakalāṁ vica ika prasidha dilacasapī paidā kītī. Hālāṅki, bahuta sārē īsā'ī dharamāṁ du'ārā isa kitāba nū kaithōlika caraca'tē hamalē vajōṁ vi'āpaka taura tē nidi'ā gi'ā hai, atē isadī itihāsaka atē vigi'ānaka aśudhī'āṁ la'ī niratara ālōcanā kītī ga'ī hai. Phira vī iha nāvala ika viśāla viśavavi'āpī baisaṭasailara [1] baṇa gi'ā jisanē 2009 [2] taka 80 milī'ana kāpī'āṁ vēcī'āṁ atē 44 bhāśāvāṁ vica anuvāda kītī'āṁ ga'ī'āṁ. Navabara 2004 vica, raiṇḍama hā Housesa nē 160 citarāṁ dē nāla ika viśēśa ilasaṭrēṭiḍa aiḍīśana prakāśata kītā. 2006 Vica, kōlabī'ā pikacaraza du'ārā ika philama anukūlatā jārī kītī ga'ī sī.\n",
        "'''\n",
        "\n",
        "summary4= '''Da vicī kōḍa ḍaina brāna dā 2003 dā rahasama'ī thrilara nāvala hai. \n",
        "Rōbaraṭa laiṅgaḍana dē kiradāra nū śāmala karana la'ī iha brā'sna dā dūjā nāvala hai: \n",
        "Pahilā usadā 2000 dā nāvala ēn̄jalasa aiṇḍa ḍaimasa sī. Phira vī iha nāvala ika viśāla \n",
        "viśavavi'āpī baisaṭasailara [1] baṇa gi'ā jisanē 2009 [2] taka 80 milī'ana kāpī'āṁ vēcī'āṁ atē 44 bhāśāvāṁ vica anuvāda kītī'āṁ ga'ī'āṁ.\n",
        "'''\n",
        "\n"
      ],
      "execution_count": 38,
      "outputs": []
    },
    {
      "cell_type": "code",
      "metadata": {
        "colab": {
          "base_uri": "https://localhost:8080/"
        },
        "id": "MoI_i8CFv8mH",
        "outputId": "fff044ea-60bb-4553-a3ea-5550e7a103b2"
      },
      "source": [
        "rouge = Rouge()\n",
        "rouge.get_scores(summary4, reference4 , avg = True)"
      ],
      "execution_count": 40,
      "outputs": [
        {
          "output_type": "execute_result",
          "data": {
            "text/plain": [
              "{'rouge-1': {'f': 0.4417670648312125, 'p': 1.0, 'r': 0.28350515463917525},\n",
              " 'rouge-2': {'f': 0.359756094533202,\n",
              "  'p': 0.9672131147540983,\n",
              "  'r': 0.2209737827715356},\n",
              " 'rouge-l': {'f': 0.4417670648312125, 'p': 1.0, 'r': 0.28350515463917525}}"
            ]
          },
          "metadata": {},
          "execution_count": 40
        }
      ]
    },
    {
      "cell_type": "code",
      "metadata": {
        "id": "1FjiKz_MwFvU"
      },
      "source": [
        ""
      ],
      "execution_count": null,
      "outputs": []
    }
  ]
}